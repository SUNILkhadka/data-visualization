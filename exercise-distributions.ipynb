{
 "cells": [
  {
   "cell_type": "markdown",
   "metadata": {},
   "source": [
    "**This notebook is an exercise in the [Data Visualization](https://www.kaggle.com/learn/data-visualization) course.  You can reference the tutorial at [this link](https://www.kaggle.com/alexisbcook/distributions).**\n",
    "\n",
    "---\n"
   ]
  },
  {
   "cell_type": "markdown",
   "metadata": {},
   "source": [
    "In this exercise, you will use your new knowledge to propose a solution to a real-world scenario.  To succeed, you will need to import data into Python, answer questions using the data, and generate **histograms** and **density plots** to understand patterns in the data.\n",
    "\n",
    "## Scenario\n",
    "\n",
    "You'll work with a real-world dataset containing information collected from microscopic images of breast cancer tumors, similar to the image below.\n",
    "\n",
    "![ex4_cancer_image](https://i.imgur.com/qUESsJe.png)\n",
    "\n",
    "Each tumor has been labeled as either [**benign**](https://en.wikipedia.org/wiki/Benign_tumor) (_noncancerous_) or **malignant** (_cancerous_).\n",
    "\n",
    "To learn more about how this kind of data is used to create intelligent algorithms to classify tumors in medical settings, **watch the short video [at this link](https://www.youtube.com/watch?v=9Mz84cwVmS0)**!"
   ]
  },
  {
   "cell_type": "markdown",
   "metadata": {},
   "source": [
    "\n",
    "\n",
    "## Setup\n",
    "\n",
    "Run the next cell to import and configure the Python libraries that you need to complete the exercise."
   ]
  },
  {
   "cell_type": "code",
   "execution_count": 1,
   "metadata": {
    "execution": {
     "iopub.execute_input": "2022-03-29T03:53:00.409251Z",
     "iopub.status.busy": "2022-03-29T03:53:00.408317Z",
     "iopub.status.idle": "2022-03-29T03:53:01.582020Z",
     "shell.execute_reply": "2022-03-29T03:53:01.580850Z",
     "shell.execute_reply.started": "2022-03-29T03:53:00.409148Z"
    }
   },
   "outputs": [],
   "source": [
    "import pandas as pd\n",
    "pd.plotting.register_matplotlib_converters()\n",
    "import matplotlib.pyplot as plt\n",
    "%matplotlib inline\n",
    "import seaborn as sns\n",
    "print(\"Setup Complete\")"
   ]
  },
  {
   "cell_type": "markdown",
   "metadata": {},
   "source": [
    "The questions below will give you feedback on your work. Run the following cell to set up our feedback system."
   ]
  },
  {
   "cell_type": "code",
   "execution_count": 2,
   "metadata": {
    "execution": {
     "iopub.execute_input": "2022-03-29T03:53:01.584849Z",
     "iopub.status.busy": "2022-03-29T03:53:01.584484Z",
     "iopub.status.idle": "2022-03-29T03:53:01.674777Z",
     "shell.execute_reply": "2022-03-29T03:53:01.673694Z",
     "shell.execute_reply.started": "2022-03-29T03:53:01.584800Z"
    }
   },
   "outputs": [],
   "source": [
    "# Set up code checking\n",
    "import os\n",
    "if not os.path.exists(\"../input/cancer_b.csv\"):\n",
    "    os.symlink(\"../input/data-for-datavis/cancer_b.csv\", \"../input/cancer_b.csv\")\n",
    "    os.symlink(\"../input/data-for-datavis/cancer_m.csv\", \"../input/cancer_m.csv\")\n",
    "from learntools.core import binder\n",
    "binder.bind(globals())\n",
    "from learntools.data_viz_to_coder.ex5 import *\n",
    "print(\"Setup Complete\")"
   ]
  },
  {
   "cell_type": "markdown",
   "metadata": {},
   "source": [
    "## Step 1: Load the data\n",
    "\n",
    "In this step, you will load two data files.\n",
    "- Load the data file corresponding to **benign** tumors into a DataFrame called `cancer_b_data`.  The corresponding filepath is `cancer_b_filepath`.  Use the `\"Id\"` column to label the rows.\n",
    "- Load the data file corresponding to **malignant** tumors into a DataFrame called `cancer_m_data`.  The corresponding filepath is `cancer_m_filepath`.  Use the `\"Id\"` column to label the rows."
   ]
  },
  {
   "cell_type": "code",
   "execution_count": 6,
   "metadata": {
    "execution": {
     "iopub.execute_input": "2022-03-29T03:56:56.119232Z",
     "iopub.status.busy": "2022-03-29T03:56:56.118696Z",
     "iopub.status.idle": "2022-03-29T03:56:56.148928Z",
     "shell.execute_reply": "2022-03-29T03:56:56.147849Z",
     "shell.execute_reply.started": "2022-03-29T03:56:56.119180Z"
    }
   },
   "outputs": [],
   "source": [
    "# Paths of the files to read\n",
    "cancer_b_filepath = \"../input/cancer_b.csv\"\n",
    "cancer_m_filepath = \"../input/cancer_m.csv\"\n",
    "\n",
    "# Fill in the line below to read the (benign) file into a variable cancer_b_data\n",
    "cancer_b_data = pd.read_csv(cancer_b_filepath,index_col='Id')\n",
    "\n",
    "# Fill in the line below to read the (malignant) file into a variable cancer_m_data\n",
    "cancer_m_data = pd.read_csv(cancer_m_filepath,index_col='Id')\n",
    "\n",
    "# Run the line below with no changes to check that you've loaded the data correctly\n",
    "step_1.check()"
   ]
  },
  {
   "cell_type": "code",
   "execution_count": null,
   "metadata": {},
   "outputs": [],
   "source": [
    "# Lines below will give you a hint or solution code\n",
    "#step_1.hint()\n",
    "#step_1.solution()"
   ]
  },
  {
   "cell_type": "markdown",
   "metadata": {},
   "source": [
    "## Step 2: Review the data\n",
    "\n",
    "Use a Python command to print the first 5 rows of the data for benign tumors."
   ]
  },
  {
   "cell_type": "code",
   "execution_count": 7,
   "metadata": {
    "execution": {
     "iopub.execute_input": "2022-03-29T03:57:25.879723Z",
     "iopub.status.busy": "2022-03-29T03:57:25.878958Z",
     "iopub.status.idle": "2022-03-29T03:57:25.922785Z",
     "shell.execute_reply": "2022-03-29T03:57:25.921953Z",
     "shell.execute_reply.started": "2022-03-29T03:57:25.879663Z"
    }
   },
   "outputs": [],
   "source": [
    "# Print the first five rows of the (benign) data\n",
    "cancer_b_data.head()"
   ]
  },
  {
   "cell_type": "markdown",
   "metadata": {},
   "source": [
    "Use a Python command to print the first 5 rows of the data for malignant tumors."
   ]
  },
  {
   "cell_type": "code",
   "execution_count": 8,
   "metadata": {
    "execution": {
     "iopub.execute_input": "2022-03-29T03:57:44.815941Z",
     "iopub.status.busy": "2022-03-29T03:57:44.815607Z",
     "iopub.status.idle": "2022-03-29T03:57:44.853013Z",
     "shell.execute_reply": "2022-03-29T03:57:44.851813Z",
     "shell.execute_reply.started": "2022-03-29T03:57:44.815908Z"
    }
   },
   "outputs": [],
   "source": [
    "# Print the first five rows of the (malignant) data\n",
    "cancer_m_data.head()"
   ]
  },
  {
   "cell_type": "markdown",
   "metadata": {},
   "source": [
    "In the datasets, each row corresponds to a different image.  Each dataset has 31 different columns, corresponding to:\n",
    "- 1 column (`'Diagnosis'`) that classifies tumors as either benign (which appears in the dataset as **`B`**) or malignant (__`M`__), and\n",
    "- 30 columns containing different measurements collected from the images.\n",
    "\n",
    "Use the first 5 rows of the data (for benign and malignant tumors) to answer the questions below."
   ]
  },
  {
   "cell_type": "code",
   "execution_count": 12,
   "metadata": {
    "execution": {
     "iopub.execute_input": "2022-03-29T04:01:16.791015Z",
     "iopub.status.busy": "2022-03-29T04:01:16.790201Z",
     "iopub.status.idle": "2022-03-29T04:01:16.800292Z",
     "shell.execute_reply": "2022-03-29T04:01:16.799292Z",
     "shell.execute_reply.started": "2022-03-29T04:01:16.790953Z"
    }
   },
   "outputs": [],
   "source": [
    "# Fill in the line below: In the first five rows of the data for benign tumors, what is the\n",
    "# largest value for 'Perimeter (mean)'?\n",
    "max_perim = 87.46\n",
    "\n",
    "# Fill in the line below: What is the value for 'Radius (mean)' for the tumor with Id 842517?\n",
    "mean_radius = 20.57\n",
    "\n",
    "# Check your answers\n",
    "step_2.check()"
   ]
  },
  {
   "cell_type": "code",
   "execution_count": 13,
   "metadata": {
    "execution": {
     "iopub.execute_input": "2022-03-29T04:01:19.631452Z",
     "iopub.status.busy": "2022-03-29T04:01:19.630713Z",
     "iopub.status.idle": "2022-03-29T04:01:19.642029Z",
     "shell.execute_reply": "2022-03-29T04:01:19.640813Z",
     "shell.execute_reply.started": "2022-03-29T04:01:19.631373Z"
    }
   },
   "outputs": [],
   "source": [
    "# Lines below will give you a hint or solution code\n",
    "#step_2.hint()\n",
    "# step_2.solution()"
   ]
  },
  {
   "cell_type": "markdown",
   "metadata": {},
   "source": [
    "## Step 3: Investigating differences"
   ]
  },
  {
   "cell_type": "markdown",
   "metadata": {},
   "source": [
    "#### Part A\n",
    "\n",
    "Use the code cell below to create two histograms that show the distribution in values for `'Area (mean)'` for both benign and malignant tumors.  (_To permit easy comparison, create a single figure containing both histograms in the code cell below._)"
   ]
  },
  {
   "cell_type": "code",
   "execution_count": 19,
   "metadata": {
    "execution": {
     "iopub.execute_input": "2022-03-29T04:04:42.290235Z",
     "iopub.status.busy": "2022-03-29T04:04:42.289900Z",
     "iopub.status.idle": "2022-03-29T04:04:42.599632Z",
     "shell.execute_reply": "2022-03-29T04:04:42.598365Z",
     "shell.execute_reply.started": "2022-03-29T04:04:42.290202Z"
    }
   },
   "outputs": [],
   "source": [
    "# Histograms for benign and maligant tumors\n",
    "sns.histplot(data = cancer_b_data,x='Area (mean)') # Your code here (benign tumors)\n",
    "sns.histplot(data = cancer_m_data,x='Area (mean)') # Your code here (malignant tumors)\n",
    "\n",
    "# Check your answer\n",
    "step_3.a.check()"
   ]
  },
  {
   "cell_type": "code",
   "execution_count": 18,
   "metadata": {
    "execution": {
     "iopub.execute_input": "2022-03-29T04:04:02.333662Z",
     "iopub.status.busy": "2022-03-29T04:04:02.333290Z",
     "iopub.status.idle": "2022-03-29T04:04:02.338908Z",
     "shell.execute_reply": "2022-03-29T04:04:02.337600Z",
     "shell.execute_reply.started": "2022-03-29T04:04:02.333627Z"
    }
   },
   "outputs": [],
   "source": [
    "# Lines below will give you a hint or solution code\n",
    "#step_3.a.hint()\n",
    "# step_3.a.solution_plot()"
   ]
  },
  {
   "cell_type": "markdown",
   "metadata": {},
   "source": [
    "#### Part B\n",
    "\n",
    "A researcher approaches you for help with identifying how the `'Area (mean)'` column can be used to understand the difference between benign and malignant tumors.  Based on the histograms above, \n",
    "- Do malignant tumors have higher or lower values for `'Area (mean)'` (relative to benign tumors), on average?\n",
    "- Which tumor type seems to have a larger range of potential values?"
   ]
  },
  {
   "cell_type": "code",
   "execution_count": 22,
   "metadata": {
    "execution": {
     "iopub.execute_input": "2022-03-29T04:11:30.330302Z",
     "iopub.status.busy": "2022-03-29T04:11:30.329909Z",
     "iopub.status.idle": "2022-03-29T04:11:30.337970Z",
     "shell.execute_reply": "2022-03-29T04:11:30.336757Z",
     "shell.execute_reply.started": "2022-03-29T04:11:30.330268Z"
    }
   },
   "outputs": [],
   "source": [
    "print('As in the histogram above we can clearly see that Malignant tumor have higher values for \"Area (mean)\" so have higher range of potential')"
   ]
  },
  {
   "cell_type": "code",
   "execution_count": null,
   "metadata": {
    "_kg_hide-input": true
   },
   "outputs": [],
   "source": [
    "# Check your answer (Run this code cell to receive credit!)\n",
    "step_3.b.solution()"
   ]
  },
  {
   "cell_type": "markdown",
   "metadata": {},
   "source": [
    "## Step 4: A very useful column\n",
    "\n",
    "#### Part A\n",
    "\n",
    "Use the code cell below to create two KDE plots that show the distribution in values for `'Radius (worst)'` for both benign and malignant tumors.  (_To permit easy comparison, create a single figure containing both KDE plots in the code cell below._)"
   ]
  },
  {
   "cell_type": "code",
   "execution_count": 32,
   "metadata": {
    "execution": {
     "iopub.execute_input": "2022-03-29T04:20:58.698707Z",
     "iopub.status.busy": "2022-03-29T04:20:58.697672Z",
     "iopub.status.idle": "2022-03-29T04:20:58.977824Z",
     "shell.execute_reply": "2022-03-29T04:20:58.976947Z",
     "shell.execute_reply.started": "2022-03-29T04:20:58.698654Z"
    }
   },
   "outputs": [],
   "source": [
    "# KDE plots for benign and malignant tumors\n",
    "sns.kdeplot(data=cancer_b_data,x='Radius (worst)',shade=True,color='blue') # Your code here (benign tumors)\n",
    "sns.kdeplot(data=cancer_m_data,x='Radius (worst)',shade=True,color='red') # Your code here (malignant tumors)\n",
    "plt.legend('Benign','Maignant')\n",
    "# Check your answer\n",
    "step_4.a.check()"
   ]
  },
  {
   "cell_type": "code",
   "execution_count": 25,
   "metadata": {
    "execution": {
     "iopub.execute_input": "2022-03-29T04:15:07.075758Z",
     "iopub.status.busy": "2022-03-29T04:15:07.075404Z",
     "iopub.status.idle": "2022-03-29T04:15:07.080854Z",
     "shell.execute_reply": "2022-03-29T04:15:07.079792Z",
     "shell.execute_reply.started": "2022-03-29T04:15:07.075724Z"
    }
   },
   "outputs": [],
   "source": [
    "# Lines below will give you a hint or solution code\n",
    "#step_4.a.hint()\n",
    "# step_4.a.solution_plot()"
   ]
  },
  {
   "cell_type": "markdown",
   "metadata": {},
   "source": [
    "#### Part B\n",
    "\n",
    "A hospital has recently started using an algorithm that can diagnose tumors with high accuracy.  Given a tumor with a value for `'Radius (worst)'` of 25, do you think the algorithm is more likely to classify the tumor as benign or malignant?"
   ]
  },
  {
   "cell_type": "code",
   "execution_count": 33,
   "metadata": {
    "execution": {
     "iopub.execute_input": "2022-03-29T04:21:17.730711Z",
     "iopub.status.busy": "2022-03-29T04:21:17.730123Z",
     "iopub.status.idle": "2022-03-29T04:21:17.738264Z",
     "shell.execute_reply": "2022-03-29T04:21:17.737061Z",
     "shell.execute_reply.started": "2022-03-29T04:21:17.730675Z"
    }
   },
   "outputs": [],
   "source": [
    "'''Given a tumor with a value for 'Radius (worst)' of 25. The algorithm will classify the tumor as malignant'''"
   ]
  },
  {
   "cell_type": "code",
   "execution_count": 34,
   "metadata": {
    "execution": {
     "iopub.execute_input": "2022-03-29T04:21:22.926545Z",
     "iopub.status.busy": "2022-03-29T04:21:22.926199Z",
     "iopub.status.idle": "2022-03-29T04:21:22.937664Z",
     "shell.execute_reply": "2022-03-29T04:21:22.936465Z",
     "shell.execute_reply.started": "2022-03-29T04:21:22.926510Z"
    }
   },
   "outputs": [],
   "source": [
    "# Check your answer (Run this code cell to receive credit!)\n",
    "step_4.b.solution()"
   ]
  },
  {
   "cell_type": "markdown",
   "metadata": {},
   "source": [
    "## Keep going\n",
    "\n",
    "Review all that you've learned and explore how to further customize your plots in the **[next tutorial](https://www.kaggle.com/alexisbcook/choosing-plot-types-and-custom-styles)**!"
   ]
  },
  {
   "cell_type": "markdown",
   "metadata": {},
   "source": [
    "---\n",
    "\n",
    "\n",
    "\n",
    "\n",
    "*Have questions or comments? Visit the [course discussion forum](https://www.kaggle.com/learn/data-visualization/discussion) to chat with other learners.*"
   ]
  }
 ],
 "metadata": {
  "kernelspec": {
   "display_name": "Python 3 (ipykernel)",
   "language": "python",
   "name": "python3"
  },
  "language_info": {
   "codemirror_mode": {
    "name": "ipython",
    "version": 3
   },
   "file_extension": ".py",
   "mimetype": "text/x-python",
   "name": "python",
   "nbconvert_exporter": "python",
   "pygments_lexer": "ipython3",
   "version": "3.9.7"
  }
 },
 "nbformat": 4,
 "nbformat_minor": 4
}
